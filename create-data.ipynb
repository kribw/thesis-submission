{
 "cells": [
  {
   "cell_type": "code",
   "execution_count": null,
   "metadata": {},
   "outputs": [],
   "source": [
    "import pandas as pd\n",
    "\n",
    "df = pd.read_csv(\"doc/translations.txt\", sep=\"\\t\")\n",
    "\n",
    "# Shuffle data before taking samples\n",
    "# Could use .sample() on its own, but this way we know which data we used for fine-tuning\n",
    "shuffle = df.sample(frac=1, random_state=1337).reset_index(drop=True)\n",
    "\n",
    "# Only need input and output for fine-tuning, so we rename the needed columns and drop the others\n",
    "train = shuffle[0:2000]\n",
    "train = train[[\"eng_translation\", \"icd10\"]].rename(columns={\"eng_translation\": \"input\", \"icd10\": \"output\"})\n",
    "train.to_csv(\"doc/train.txt\", sep=\"\\t\", index=False)\n",
    "\n",
    "val = shuffle[2000:2500]\n",
    "val = val[[\"eng_translation\", \"icd10\"]].rename(columns={\"eng_translation\": \"input\", \"icd10\": \"output\"})\n",
    "val.to_csv(\"doc/validate.txt\", sep=\"\\t\", index=False)\n",
    "\n",
    "# Can use all columns later for analyzing results\n",
    "test = shuffle[2500:4500]\n",
    "test.to_csv(\"doc/test.txt\", sep=\"\\t\", index=False)\n"
   ]
  }
 ],
 "metadata": {
  "kernelspec": {
   "display_name": "Python 3",
   "language": "python",
   "name": "python3"
  },
  "language_info": {
   "codemirror_mode": {
    "name": "ipython",
    "version": 3
   },
   "file_extension": ".py",
   "mimetype": "text/x-python",
   "name": "python",
   "nbconvert_exporter": "python",
   "pygments_lexer": "ipython3",
   "version": "3.12.1"
  }
 },
 "nbformat": 4,
 "nbformat_minor": 2
}
