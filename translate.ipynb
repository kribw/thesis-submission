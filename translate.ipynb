{
 "cells": [
  {
   "cell_type": "code",
   "execution_count": null,
   "metadata": {},
   "outputs": [],
   "source": [
    "from deep_translator import GoogleTranslator\n",
    "import pandas as pd\n",
    "import numpy as np\n",
    "\n",
    "df = pd.read_csv(\"doc/icd10h_v3.txt\", sep=\"\\t\")\n",
    "df[\"eng_translation\"] = np.nan\n",
    "\n",
    "# Fill empty values with \"blank\"\n",
    "df[\"cod_ori\"] = df[\"cod_ori\"].fillna(\"blank\")\n",
    "\n",
    "# Check that no values are empty\n",
    "nan_count = df[\"cod_ori\"].isnull().sum()\n",
    "print(f\"Number of NaN values: {nan_count}\")\n",
    "\n",
    "translator = GoogleTranslator(source='da', target='en')\n",
    "\n",
    "# Iterate through dataframe and translate from Danish -> English\n",
    "for index, row in df.iterrows():\n",
    "    # Dont need to translate \"blank\" entries\n",
    "    if(row[\"cod_ori\"] == \"blank\"):\n",
    "        df.at[index, \"eng_translation\"] = \"blank\"\n",
    "\n",
    "    # Translate every row that is null\n",
    "    if pd.isna(df.at[index, \"eng_translation\"]):\n",
    "        try:\n",
    "            df.at[index, \"eng_translation\"] = translator.translate(row[\"cod_ori\"])\n",
    "        except Exception as e:\n",
    "            print(f\"EXCEPTION OCCURRED: {e}\")\n",
    "            break\n",
    "\n",
    "# Save translations to file\n",
    "df.to_csv(\"doc/translations.txt\", sep=\"\\t\", index=False)\n",
    "\n",
    "\n",
    "#### Some samples to test API\n",
    " \n",
    "# texts = [\"Hjertefeil\", \"Lungebetændelse\", \"Cancer ventriculi\", \"Tubercul. pulmon.\", \"Krampe\", \"Gigtfeber\", \"Bronchit\", \"Næsehoste\", \"Medfødt svaghed\"]\n",
    "# translations = []\n",
    "\n",
    "# for item in texts:\n",
    "#     translations.append({\"danish\": item, \"english\": translator.translate(item)})\n",
    "# print(translations)\n"
   ]
  }
 ],
 "metadata": {
  "kernelspec": {
   "display_name": "thesis",
   "language": "python",
   "name": "python3"
  },
  "language_info": {
   "codemirror_mode": {
    "name": "ipython",
    "version": 3
   },
   "file_extension": ".py",
   "mimetype": "text/x-python",
   "name": "python",
   "nbconvert_exporter": "python",
   "pygments_lexer": "ipython3",
   "version": "3.12.1"
  }
 },
 "nbformat": 4,
 "nbformat_minor": 2
}
